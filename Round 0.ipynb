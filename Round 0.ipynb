{
  "nbformat": 4,
  "nbformat_minor": 0,
  "metadata": {
    "colab": {
      "name": "Abakoda.ipynb",
      "provenance": [],
      "authorship_tag": "ABX9TyNqdmpfv/VIa/RnuA6lI5U8",
      "include_colab_link": true
    },
    "kernelspec": {
      "name": "python3",
      "display_name": "Python 3"
    },
    "language_info": {
      "name": "python"
    }
  },
  "cells": [
    {
      "cell_type": "markdown",
      "metadata": {
        "id": "view-in-github",
        "colab_type": "text"
      },
      "source": [
        "<a href=\"https://colab.research.google.com/github/noi-ph/abakoda/blob/master/Round%200.ipynb\" target=\"_parent\"><img src=\"https://colab.research.google.com/assets/colab-badge.svg\" alt=\"Open In Colab\"/></a>"
      ]
    },
    {
      "cell_type": "markdown",
      "metadata": {
        "id": "Lffk0Z8CZtDb"
      },
      "source": [
        "# Active Lifestyle\n",
        "\n"
      ]
    },
    {
      "cell_type": "markdown",
      "metadata": {
        "id": "KdPCc18cLprr"
      },
      "source": [
        "This is wrong. \"Please input the day\" gets mixed into the output, and the automatic checker program marks your solution wrong, even though you have the correct logic."
      ]
    },
    {
      "cell_type": "code",
      "metadata": {
        "colab": {
          "base_uri": "https://localhost:8080/"
        },
        "id": "WhLsG9TXzOVz",
        "outputId": "08a200c5-d693-469a-c882-8af7fc52583b"
      },
      "source": [
        "day = int(input('Please input the day:'))\n",
        "if day % 2 == 0:\n",
        "  print('Exercise')\n",
        "else:\n",
        "  print('Relax')\n"
      ],
      "execution_count": 9,
      "outputs": [
        {
          "output_type": "stream",
          "text": [
            "Please input the day:31\n",
            "Relax\n"
          ],
          "name": "stdout"
        }
      ]
    },
    {
      "cell_type": "markdown",
      "metadata": {
        "id": "8txDplTEL3xj"
      },
      "source": [
        "This is the correct solution. This is something you just have to get used to when joining programming contests like NOI.PH, ABaKoDa, Codeforces, AtCoder."
      ]
    },
    {
      "cell_type": "code",
      "metadata": {
        "id": "7hOZi80jL0wZ"
      },
      "source": [
        "day = int(input())\n",
        "if day % 2 == 0:\n",
        "  print('Exercise')\n",
        "else:\n",
        "  print('Relax')"
      ],
      "execution_count": null,
      "outputs": []
    },
    {
      "cell_type": "markdown",
      "metadata": {
        "id": "fC0DNqO_Z1sn"
      },
      "source": [
        "# Bubble Sort"
      ]
    },
    {
      "cell_type": "markdown",
      "metadata": {
        "id": "KJ3kQeSiMPvn"
      },
      "source": [
        "This requires about $n^2$ operations. It's too slow when $n$ can be up to $10^{12}$.\n",
        "\n",
        "Remember: the number of Python operations a modern CPU can perform is about $10^7$."
      ]
    },
    {
      "cell_type": "code",
      "metadata": {
        "id": "M5GE6qYaUoJt"
      },
      "source": [
        "n = int(input())\n",
        "ans = 0\n",
        "for i in range(n):\n",
        "  for j in range(n - i - 1):\n",
        "    ans += 1\n",
        "print(ans)"
      ],
      "execution_count": null,
      "outputs": []
    },
    {
      "cell_type": "markdown",
      "metadata": {
        "id": "JOi4X0_aMenL"
      },
      "source": [
        "There's an easy way to improve the solution. The solution below now requires about $n$ operations only, but it's still too slow."
      ]
    },
    {
      "cell_type": "code",
      "metadata": {
        "id": "oKdafEACUhSu"
      },
      "source": [
        "n = int(input())\n",
        "ans = 0\n",
        "for i in range(n):\n",
        "  ans += n - i - 1\n",
        "print(ans)"
      ],
      "execution_count": null,
      "outputs": []
    },
    {
      "cell_type": "markdown",
      "metadata": {
        "id": "gkFFzPb1Mnss"
      },
      "source": [
        "The efficient solution requires some more thinking. This now requires only a small number of operations and runs fast. Be careful to use integer division, not floating-point."
      ]
    },
    {
      "cell_type": "code",
      "metadata": {
        "colab": {
          "base_uri": "https://localhost:8080/"
        },
        "id": "MXBaV74y4MhQ",
        "outputId": "09dca6a6-b49f-495e-c38b-2c7d9c44eccc"
      },
      "source": [
        "n = int(input())\n",
        "ans = n * (n - 1) // 2\n",
        "print(ans)"
      ],
      "execution_count": 31,
      "outputs": [
        {
          "output_type": "stream",
          "text": [
            "1000000000000\n",
            "499999999999500000000000\n"
          ],
          "name": "stdout"
        }
      ]
    },
    {
      "cell_type": "markdown",
      "metadata": {
        "id": "nMbfkXJqaIcK"
      },
      "source": [
        "# Koordinated Universal Time"
      ]
    },
    {
      "cell_type": "markdown",
      "metadata": {
        "id": "d_phf3JyNBTZ"
      },
      "source": [
        "Don't think about all the small steps at once. First break your program into big steps. Then worry about the details inside those big steps later."
      ]
    },
    {
      "cell_type": "code",
      "metadata": {
        "id": "cpgf4Yz-Hwnz"
      },
      "source": [
        "def read_the_time():\n",
        "  ...\n",
        "\n",
        "def read_the_timezone():\n",
        "  ...\n",
        "\n",
        "def read_the_input():\n",
        "  read_the_time()\n",
        "  read_the_timezone()\n",
        "\n",
        "def convert_from_pht_to_utc():\n",
        "\n",
        "def convert_from_utc_to_friend():\n",
        "\n",
        "def print_the_output():\n",
        "\n",
        "\n",
        "read_the_input()\n",
        "convert_from_pht_to_utc()\n",
        "convert_from_utc_to_friend()\n",
        "print_the_output()\n",
        "\n",
        "# read the input\n",
        "  # read the time\n",
        "  # read the timezone\n",
        "# convert from pht to utc\n",
        "# convert from utc to friend\n",
        "# print the output"
      ],
      "execution_count": null,
      "outputs": []
    },
    {
      "cell_type": "markdown",
      "metadata": {
        "id": "iTkoJLPHNV6F"
      },
      "source": [
        "Here's another way to break down the problem into big steps."
      ]
    },
    {
      "cell_type": "code",
      "metadata": {
        "id": "HIzbtw56IJFz"
      },
      "source": [
        "# read_the_input\n",
        "# find_hours_difference\n",
        "# apply_hours_difference\n",
        "# print_the_output"
      ],
      "execution_count": null,
      "outputs": []
    },
    {
      "cell_type": "markdown",
      "metadata": {
        "id": "4cQ19QxsNdQ_"
      },
      "source": [
        "The 12-hour system is hard to work with. You need to worry about AM/PM, and it's not obvious what to do when you need to go backwards from 1 o'clock or forwards from 12 o'clock. The 24-hour system is easier. Here's why."
      ]
    },
    {
      "cell_type": "markdown",
      "metadata": {
        "id": "UA2SUq5WYM8Y"
      },
      "source": [
        "To advance the time by X hours, simply add X to the hour and take the remainder when divided by 24."
      ]
    },
    {
      "cell_type": "code",
      "metadata": {
        "id": "4MR9WW5DYOZH"
      },
      "source": [
        "4:00 PM + 10 hours =  2:00 AM\n",
        "                      2:00\n",
        "16:00   + 10 hours = 26:00 = 2:00 (remainder when you divide by 24)"
      ],
      "execution_count": null,
      "outputs": []
    },
    {
      "cell_type": "markdown",
      "metadata": {
        "id": "6Z52QAc5Yhwe"
      },
      "source": [
        "This also works when you reverse time by X hours, and the hour becomes negative. Just take the remainder when divided by 24. The \"remainder\" for negative numbers works like this:\n",
        "\n",
        "1.   Repeatedly add the divisor, until the result becomes non-negative.\n",
        "\n",
        "2.   That non-negative number is the remainder.\n",
        "\n"
      ]
    },
    {
      "cell_type": "code",
      "metadata": {
        "id": "uxToxP4UNMrd"
      },
      "source": [
        "4:00 AM - 10 hours =  6:00 PM\n",
        "4:00    - 10 hours = -6:00 = 18:00 (remainder when you divide by 24)"
      ],
      "execution_count": null,
      "outputs": []
    },
    {
      "cell_type": "markdown",
      "metadata": {
        "id": "0LX2-7gjaZgf"
      },
      "source": [
        "In the 24-hour system, midnight is 0:00. There's no need to worry about whether you are changing AM to PM or vice versa correctly. Using \"division by 24\" simply works."
      ]
    },
    {
      "cell_type": "markdown",
      "metadata": {
        "id": "Qo7I3pddallR"
      },
      "source": [
        "One way to make solving this problem even easier: convert the input from 12-hour system to 24-hour system first, before changing according to timezone. Then, convert the output back from 24-hour to 12-hour."
      ]
    },
    {
      "cell_type": "markdown",
      "metadata": {
        "id": "IVTmPVLCa9H0"
      },
      "source": [
        "# Delta Variations"
      ]
    },
    {
      "cell_type": "markdown",
      "metadata": {
        "id": "UejXSK_-KqHw"
      },
      "source": [
        "Ways to express repetition:\n",
        "\n",
        "1. Repeat this thing X times\n",
        "\n",
        "2. Repeat this thing until something happens\n",
        "\n",
        "3. To do something, do one step and then do it again\n",
        "\n",
        "The third way is called **recursion**."
      ]
    },
    {
      "cell_type": "code",
      "metadata": {
        "id": "GFtocQ_fMVyE"
      },
      "source": [
        "# Someone is your ancestor if they are your parent or they are an ancestor of your parent.\n",
        "\n",
        "def is_ancestor(a, b):\n",
        "  return b == parent[a] or is_ancestor(parent[a], b)\n",
        "\n",
        "# It is easy to support the case when everyone has multiple parents.\n",
        "\n",
        "def is_ancestor(a, b):\n",
        "  answer = False\n",
        "  for parent in parents[a]:\n",
        "    if b == parent or is_ancestor(parent, b):\n",
        "      answer = True\n",
        "  return answer\n",
        "\n",
        "# You need to modify these definitions somewhat to handle cases \n",
        "# when someone doesn't have a parent,\n",
        "# or when someone is considered an ancestor of themselves.\n",
        "  "
      ],
      "execution_count": null,
      "outputs": []
    }
  ]
}