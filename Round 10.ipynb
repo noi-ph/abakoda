{
  "nbformat": 4,
  "nbformat_minor": 0,
  "metadata": {
    "colab": {
      "name": "Abakoda Round 10.ipynb",
      "provenance": [],
      "collapsed_sections": [],
      "authorship_tag": "ABX9TyNKTW63vPkVO2wOq2xRE8nu",
      "include_colab_link": true
    },
    "kernelspec": {
      "name": "python3",
      "display_name": "Python 3"
    },
    "language_info": {
      "name": "python"
    }
  },
  "cells": [
    {
      "cell_type": "markdown",
      "metadata": {
        "id": "view-in-github",
        "colab_type": "text"
      },
      "source": [
        "<a href=\"https://colab.research.google.com/github/noi-ph/abakoda/blob/master/Round%2010.ipynb\" target=\"_parent\"><img src=\"https://colab.research.google.com/assets/colab-badge.svg\" alt=\"Open In Colab\"/></a>"
      ]
    },
    {
      "cell_type": "markdown",
      "metadata": {
        "id": "9SWMHzKU5t74"
      },
      "source": [
        "# akyat bahay klimbing device"
      ]
    },
    {
      "cell_type": "code",
      "metadata": {
        "id": "s_h_2PEkSU14"
      },
      "source": [
        "s = [int(x) for x in input().split()]\n",
        "print('Yes' if any(x + 1 in s and x + 2 in s for x in s) else 'No')"
      ],
      "execution_count": null,
      "outputs": []
    },
    {
      "cell_type": "code",
      "metadata": {
        "id": "V6PjJcrZT2bJ"
      },
      "source": [
        "s = sorted(int(x) for x in input().split())\n",
        "print('Yes' if s[1] == s[0] + 1 and s[2] == s[0] + 2 else 'No')"
      ],
      "execution_count": null,
      "outputs": []
    },
    {
      "cell_type": "markdown",
      "metadata": {
        "id": "uNqAmRn782Js"
      },
      "source": [
        "# baitang"
      ]
    },
    {
      "cell_type": "code",
      "metadata": {
        "colab": {
          "base_uri": "https://localhost:8080/"
        },
        "id": "jSO7KnpcYXLU",
        "outputId": "84913b5a-b8b1-40e6-8bc4-28ecf298f9c8"
      },
      "source": [
        "s = set()\n",
        "s.add(1)\n",
        "print(s)\n",
        "s.add(1)\n",
        "print(s)\n",
        "print(1 in s)\n",
        "s.remove(1)\n",
        "print(s)\n",
        "print(1 in s)"
      ],
      "execution_count": null,
      "outputs": [
        {
          "output_type": "stream",
          "name": "stdout",
          "text": [
            "{1}\n",
            "{1}\n",
            "True\n",
            "set()\n",
            "False\n"
          ]
        }
      ]
    },
    {
      "cell_type": "code",
      "metadata": {
        "id": "NSYcbDsXWoWS"
      },
      "source": [
        "n = int(input())\n",
        "height = [int(x) for x in input().split()]\n",
        "height_set = set(height)\n",
        "\n",
        "if max(height) - min(height) in [n, n - 1]:\n",
        "  print('Yes')\n",
        "  for x in range(min(height) + 1, max(height) + 2): # O(n)\n",
        "    if x not in height_set: # O(1), \"x not in height\" would have been O(n)\n",
        "      print(x)\n",
        "      break\n",
        "else:\n",
        "  print('No')"
      ],
      "execution_count": null,
      "outputs": []
    },
    {
      "cell_type": "markdown",
      "metadata": {
        "id": "fiQP5XJF9R3h"
      },
      "source": [
        "# kizahasi"
      ]
    },
    {
      "cell_type": "code",
      "metadata": {
        "id": "SoRW11USafOz"
      },
      "source": [
        "n = int(input())\n",
        "height = [int(x) for x in input().split()]\n",
        "\n",
        "answer = n - 1\n",
        "\n",
        "for anchor in range(n): # O(n)\n",
        "  required_heights = [height[anchor] + (j - anchor) for j in range(n)] # O(n)\n",
        "  stools_to_change = 0\n",
        "  for j in range(n): # O(n)\n",
        "    if height[j] != required_heights[j]:\n",
        "      stools_to_change += 1\n",
        "  answer = min(answer, stools_to_change)\n",
        "\n",
        "print(answer)"
      ],
      "execution_count": null,
      "outputs": []
    },
    {
      "cell_type": "code",
      "metadata": {
        "id": "p0W3-KVgg2hf"
      },
      "source": [
        "n = int(input())\n",
        "height = [int(x) for x in input().split()]\n",
        "\n",
        "answer = n - 1\n",
        "\n",
        "group_size = {}\n",
        "\n",
        "for anchor in range(n): # O(n)\n",
        "  required_heights = tuple(height[anchor] + (j - anchor) for j in range(n)) # O(n)\n",
        "  if required_heights not in group_size:\n",
        "    group_size[required_heights] = 0\n",
        "  group_size[required_heights] += 1\n",
        "\n",
        "answer = n - 1\n",
        "for required_heights, size in group_size.items():\n",
        "  print(required_heights, size)\n",
        "  answer = min(answer, n - size)\n",
        "print(answer)"
      ],
      "execution_count": null,
      "outputs": []
    },
    {
      "cell_type": "code",
      "metadata": {
        "id": "wNo9ova2l9uS"
      },
      "source": [
        "n = int(input())\n",
        "height = [int(x) for x in input().split()]\n",
        "\n",
        "answer = n - 1\n",
        "\n",
        "group_size = {}\n",
        "\n",
        "for anchor in range(n): # O(n)\n",
        "  height_of_smallest = height[anchor] - anchor # O(1)\n",
        "  if height_of_smallest not in group_size: # O(1)\n",
        "    group_size[height_of_smallest] = 0\n",
        "  group_size[height_of_smallest] += 1\n",
        "\n",
        "answer = n - 1\n",
        "for height_of_smallest, size in group_size.items():\n",
        "  print(height_of_smallest, size)\n",
        "  answer = min(answer, n - size)\n",
        "print(answer)"
      ],
      "execution_count": null,
      "outputs": []
    },
    {
      "cell_type": "code",
      "metadata": {
        "id": "gTfc_kkj9g1t"
      },
      "source": [
        "n = int(input())\n",
        "height = [int(x) for x in input().split()]\n",
        "\n",
        "answer = n - 1\n",
        "\n",
        "group_size = {}\n",
        "\n",
        "for anchor in range(n): # O(n)\n",
        "  height_of_smallest = height[anchor] - anchor # O(1)\n",
        "  if height_of_smallest not in group_size: # O(1)\n",
        "    group_size[height_of_smallest] = 0\n",
        "  group_size[height_of_smallest] += 1\n",
        "\n",
        "answer = n - 1\n",
        "for height_of_smallest, size in group_size.items():\n",
        "  if height_of_smallest > 0:\n",
        "    answer = min(answer, n - size)\n",
        "print(answer)"
      ],
      "execution_count": null,
      "outputs": []
    },
    {
      "cell_type": "code",
      "metadata": {
        "id": "cuN3vP8c92OX"
      },
      "source": [
        "from collections import Counter\n",
        "n = int(input())\n",
        "height = [int(x) for x in input().split()]\n",
        "group_size = Counter(height[i] - i for i in range(n))\n",
        "print(min(n - size for height_of_smallest, size in group_size.items() if height_of_smallest > 0))"
      ],
      "execution_count": null,
      "outputs": []
    },
    {
      "cell_type": "markdown",
      "metadata": {
        "id": "mxYymZvN-Qkn"
      },
      "source": [
        "# dangye"
      ]
    },
    {
      "cell_type": "code",
      "metadata": {
        "id": "snHA2ia1-WqF"
      },
      "source": [
        "n = int(input())\n",
        "height = [int(x) for x in input().split()]\n",
        "median = sorted(height[i] - i for i in range(n))[n // 2]\n",
        "height_of_smallest = median if median > 0 else 1\n",
        "print(sum(abs(x - height_of_smallest) for x in a))"
      ],
      "execution_count": null,
      "outputs": []
    }
  ]
}
