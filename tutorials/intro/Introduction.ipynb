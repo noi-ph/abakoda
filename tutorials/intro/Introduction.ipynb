{
 "cells": [
  {
   "cell_type": "markdown",
   "id": "a0611063-196b-4ae7-a804-828f827826e9",
   "metadata": {},
   "source": [
    "# Introduction to Competitive Programming"
   ]
  },
  {
   "cell_type": "markdown",
   "id": "5c3742ef-5b7b-4ef7-b6a8-95813c596a1f",
   "metadata": {},
   "source": [
    "For this tutorial, we're given a simple problem of computing the area of a rectangle given its $length$ and $width$. For simplicity, both $length$ and $width$ are whole numbers (non-negative integers)."
   ]
  },
  {
   "cell_type": "markdown",
   "id": "b85b030e-b538-497d-b112-1c5b139ccbc3",
   "metadata": {},
   "source": [
    "At its essence, we can solve it by creating a single function to compute the area: _(replace `...` with your solution and run it using the ► button)_"
   ]
  },
  {
   "cell_type": "code",
   "execution_count": null,
   "id": "729980bc-f2e1-416b-9acb-2bbf0b28e8bc",
   "metadata": {},
   "outputs": [],
   "source": [
    "def area(length, width):\n",
    "    ..."
   ]
  },
  {
   "cell_type": "code",
   "execution_count": null,
   "id": "efa86156-139f-48f1-920f-180c6056d7ae",
   "metadata": {},
   "outputs": [],
   "source": [
    "print(area(3, 4)) # should be 12"
   ]
  },
  {
   "cell_type": "code",
   "execution_count": null,
   "id": "d72084dd-7b4a-4cb7-adf3-ab1956a52dd0",
   "metadata": {},
   "outputs": [],
   "source": [
    "print(area(2, 2)) # should be 4"
   ]
  },
  {
   "cell_type": "markdown",
   "id": "388b421d-c1f6-4a58-a38e-dd48e4bc9934",
   "metadata": {},
   "source": [
    "In the above, we just specify constant values as inputs. In competitive programming, the inputs are variable and you don't know what they are in advance (but there are sample input(s) given for you to test)."
   ]
  },
  {
   "cell_type": "markdown",
   "id": "c187f6aa-d189-4190-8c84-4b96a4f99b59",
   "metadata": {},
   "source": [
    "Most competitive programming platforms (like CodeForces) provide the input through what's called the **standard input**. You don't need to know exactly what that is right now. In Python, you can get one line of standard input through the `input()` function."
   ]
  },
  {
   "cell_type": "code",
   "execution_count": null,
   "id": "31abc1d2-68fb-43a4-a0db-91a7b017cf5d",
   "metadata": {},
   "outputs": [],
   "source": [
    "line = input()"
   ]
  },
  {
   "cell_type": "markdown",
   "id": "1e85e9a1-f885-485d-a8a7-ab11ce2fd7d8",
   "metadata": {},
   "source": [
    "_In this Python notebook, the way the input is given might be different from the one in your own terminal._"
   ]
  },
  {
   "cell_type": "markdown",
   "id": "d274df33-d7e0-4269-9589-69750edbe9f3",
   "metadata": {},
   "source": [
    "Likewise, your program should give the answer to a given input using the **standard output**. `print()` is the function you use to output one line of string."
   ]
  },
  {
   "cell_type": "code",
   "execution_count": null,
   "id": "558f098a-2fe4-4e11-832c-d8acf9ad8deb",
   "metadata": {},
   "outputs": [],
   "source": [
    "print(line)"
   ]
  },
  {
   "cell_type": "markdown",
   "id": "64d3e02f-9360-492d-bd7f-2521675f2db7",
   "metadata": {},
   "source": [
    "Usually, like in this problem, we are given multiple **cases** (instances) of the problem, where we solve each case independently.\n",
    "\n",
    "The number of cases is usually given as the first line of the whole input. Check out the sample input for this problem."
   ]
  },
  {
   "cell_type": "code",
   "execution_count": null,
   "id": "8c510a9e-2ad7-4ff7-9965-067176724969",
   "metadata": {},
   "outputs": [],
   "source": [
    "%%writefile sample-input.txt\n",
    "3\n",
    "3 4\n",
    "2 2\n",
    "10 20"
   ]
  },
  {
   "cell_type": "markdown",
   "id": "96b55cb7-186c-432e-b30c-755c957a8da6",
   "metadata": {},
   "source": [
    "Below is its corresponding output (for a correct solution):"
   ]
  },
  {
   "cell_type": "code",
   "execution_count": null,
   "id": "2fe8fb0f-41a3-4460-9fe6-01126a98d4c2",
   "metadata": {},
   "outputs": [],
   "source": [
    "%%writefile sample-output.txt\n",
    "12\n",
    "4\n",
    "200"
   ]
  },
  {
   "cell_type": "markdown",
   "id": "f229245d-5a89-45e6-a66b-46cdeb0f89a6",
   "metadata": {},
   "source": [
    "Let's focus on dealing one case first. In this problem, a case is represented by one line of input. In a line, the length is given first then a single space, then the width.\n",
    "\n",
    "We get one line using `input()`:"
   ]
  },
  {
   "cell_type": "code",
   "execution_count": null,
   "id": "81de9d68-d54d-417d-bbb0-647178a15b9c",
   "metadata": {},
   "outputs": [],
   "source": [
    "line = input()"
   ]
  },
  {
   "cell_type": "markdown",
   "id": "dd47e57d-293c-4838-b49f-0fba0dee2c74",
   "metadata": {},
   "source": [
    "To separate the length and the width from a single line, we can use the `split()` method of a string."
   ]
  },
  {
   "cell_type": "markdown",
   "id": "1b532cad-b94c-43e6-be93-ca3b27efca00",
   "metadata": {},
   "source": [
    "_In this notebook, you can check out the documentation for a given function or method (or object in general) by appending a `?` at the end._"
   ]
  },
  {
   "cell_type": "code",
   "execution_count": null,
   "id": "833a64a5-4703-452a-8ec9-c05bfb6ffe24",
   "metadata": {},
   "outputs": [],
   "source": [
    "line.split?"
   ]
  },
  {
   "cell_type": "code",
   "execution_count": null,
   "id": "54d005b6-6992-462b-a16c-c55702774fb9",
   "metadata": {},
   "outputs": [],
   "source": [
    "length, width = line.split()"
   ]
  },
  {
   "cell_type": "markdown",
   "id": "1b21aa3e-0f1d-4a7e-b567-7e850fb5927b",
   "metadata": {},
   "source": [
    "Now, let's try that in our function."
   ]
  },
  {
   "cell_type": "code",
   "execution_count": null,
   "id": "c0d4ac06-73d5-4692-9678-034aac92168d",
   "metadata": {},
   "outputs": [],
   "source": [
    "print(area(length, width))"
   ]
  },
  {
   "cell_type": "markdown",
   "id": "7ca97756-07d5-4cfb-aced-8eedf53c3b6c",
   "metadata": {},
   "source": [
    "There's an error because `length` and `width` are still of _type_ `str`. As a reminder, in Python (and most programming languages), objects have types and operations on them depends on what type they are."
   ]
  },
  {
   "cell_type": "code",
   "execution_count": null,
   "id": "3c70adab-b106-483e-8023-aed88c767b99",
   "metadata": {},
   "outputs": [],
   "source": [
    "'3' == 3 # this should be False"
   ]
  },
  {
   "cell_type": "markdown",
   "id": "f61a07c4-268a-4305-9ae9-50448864f7a2",
   "metadata": {},
   "source": [
    "To convert the `str` input into `int`, we simply use `int()`."
   ]
  },
  {
   "cell_type": "code",
   "execution_count": null,
   "id": "415fd667-23de-4368-8001-cd1674c4521a",
   "metadata": {},
   "outputs": [],
   "source": [
    "length = int(length)\n",
    "width = int(width)"
   ]
  },
  {
   "cell_type": "markdown",
   "id": "e1af23d0-13ce-4ad8-a5ce-1a93dae8f3f3",
   "metadata": {},
   "source": [
    "Let's try using them again:"
   ]
  },
  {
   "cell_type": "code",
   "execution_count": null,
   "id": "16e9b3d7-19df-475b-be83-badbcd1a7234",
   "metadata": {},
   "outputs": [],
   "source": [
    "print(area(length, width))"
   ]
  },
  {
   "cell_type": "markdown",
   "id": "1a7270be-8a7c-4286-af25-22095fd1ba47",
   "metadata": {},
   "source": [
    "We're now done with one case. To go through the whole input, we use a loop via the `range()` function."
   ]
  },
  {
   "cell_type": "code",
   "execution_count": null,
   "id": "bb9f4db2-3a9e-4edb-86e3-0086d255d898",
   "metadata": {},
   "outputs": [],
   "source": [
    "cases = int(input())\n",
    "for _ in range(cases):\n",
    "    line = input()"
   ]
  },
  {
   "cell_type": "markdown",
   "id": "21d45864-72ed-47d4-914b-915618bcff06",
   "metadata": {},
   "source": [
    "When you run the above, the number you gave at the start will be the number of times subsequent `input()` will be called.\n",
    "\n",
    "_You can press the ■ button to interrupt and stop getting input._"
   ]
  },
  {
   "cell_type": "markdown",
   "id": "a589534b-c1b7-4801-8af4-766dcf6f74b2",
   "metadata": {},
   "source": [
    "Let's tie it altogether and place the solution in `solution.py` file. Add your code below by editing this cell and running it (note that you can run a cell multiple times)."
   ]
  },
  {
   "cell_type": "code",
   "execution_count": null,
   "id": "631bed4d-5df6-4051-a155-442a011d10e6",
   "metadata": {},
   "outputs": [],
   "source": [
    "%%writefile solution.py\n",
    "# Write your full solution here"
   ]
  },
  {
   "cell_type": "markdown",
   "id": "fc9ca772-7606-4e6a-ba39-99fcd3c0e7a6",
   "metadata": {},
   "source": [
    "You can test it by running the following:"
   ]
  },
  {
   "cell_type": "code",
   "execution_count": null,
   "id": "9e8d9769-4ff2-4f27-ba44-e93b4e7cf4f6",
   "metadata": {},
   "outputs": [],
   "source": [
    "!python solution.py < sample-input.txt"
   ]
  },
  {
   "cell_type": "markdown",
   "id": "d30e05ac-ad9d-4f24-8cce-63e32c27fa9b",
   "metadata": {},
   "source": [
    "The above makes the program use the contents of `sample-input.txt` as its standard input. You can use the same command in your terminal to run your solution given a sample input (just remove the `!` prefix).\n",
    "\n",
    "After running, you should see your answers as standard output, then you can compare it to `sample-output.txt`, which should be the same if your solution is correct."
   ]
  },
  {
   "cell_type": "code",
   "execution_count": null,
   "id": "b02612d3-db5f-487b-9039-908d1d979797",
   "metadata": {},
   "outputs": [],
   "source": [
    "!cat sample-output.txt"
   ]
  },
  {
   "cell_type": "code",
   "execution_count": null,
   "id": "5a294da8-0b7d-438e-a77d-3dad6131afc1",
   "metadata": {},
   "outputs": [],
   "source": [
    "!python solution.py < sample-input.txt | diff - sample-output.txt"
   ]
  },
  {
   "cell_type": "markdown",
   "id": "ebf19952-2f26-4bfe-bb38-7d2ba48731e7",
   "metadata": {},
   "source": [
    "The above command runs your solution given the `sample-input.txt` as your input and compares your output to the `sample-output.txt`. If your answer is correct, you should not see any output. Otherwise you'll see the difference between your output and the supposed output from the sample cases.\n",
    "\n",
    "_If you're using Linux or Mac, you can use the above command in your own terminal (without the `!` prefix)._"
   ]
  },
  {
   "cell_type": "code",
   "execution_count": null,
   "id": "20f0b26d-157f-4af4-9168-53eafc5c8d19",
   "metadata": {},
   "outputs": [],
   "source": []
  }
 ],
 "metadata": {
  "kernelspec": {
   "display_name": "Python 3 (ipykernel)",
   "language": "python",
   "name": "python3"
  },
  "language_info": {
   "codemirror_mode": {
    "name": "ipython",
    "version": 3
   },
   "file_extension": ".py",
   "mimetype": "text/x-python",
   "name": "python",
   "nbconvert_exporter": "python",
   "pygments_lexer": "ipython3",
   "version": "3.9.5"
  }
 },
 "nbformat": 4,
 "nbformat_minor": 5
}
